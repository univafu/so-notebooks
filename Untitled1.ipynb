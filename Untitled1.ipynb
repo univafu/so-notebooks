{
 "cells": [
  {
   "cell_type": "code",
   "execution_count": 1,
   "metadata": {},
   "outputs": [
    {
     "name": "stdout",
     "output_type": "stream",
     "text": [
      "total 36\n",
      "drwxr-xr-x  4 developer developer  4096 Sep 11 16:59 .\n",
      "drwxr-xr-x 11 developer developer  4096 Aug 27 06:25 ..\n",
      "drwxr-xr-x  8 developer developer  4096 Aug 27 06:26 .git\n",
      "drwxr-xr-x  2 developer developer  4096 Sep 11 16:57 .ipynb_checkpoints\n",
      "-rw-r--r--  1 developer developer 10280 Aug 28 16:46 Introduccion.ipynb\n",
      "-rw-r--r--  1 developer developer   401 Sep  4 15:21 Untitled.ipynb\n",
      "-rw-r--r--  1 developer developer   410 Sep 11 16:59 Untitled1.ipynb\n"
     ]
    }
   ],
   "source": [
    "ls -al"
   ]
  },
  {
   "cell_type": "markdown",
   "metadata": {},
   "source": [
    "# Comandos basicos de Linux\n",
    "\n",
    "Aqui vamos a documentar algunos comandos basicos de Linux\n",
    "\n",
    "Comando **ls**:\n",
    "\n",
    "Nos muestra en pantalla un listado de archivos del directorio donde estemos\n",
    "posicionados o bien recibe un parametro de la ruta a listar."
   ]
  },
  {
   "cell_type": "code",
   "execution_count": 2,
   "metadata": {},
   "outputs": [
    {
     "name": "stdout",
     "output_type": "stream",
     "text": [
      "Introduccion.ipynb  Untitled.ipynb  Untitled1.ipynb\n"
     ]
    }
   ],
   "source": [
    "ls"
   ]
  },
  {
   "cell_type": "code",
   "execution_count": 18,
   "metadata": {},
   "outputs": [
    {
     "name": "stdout",
     "output_type": "stream",
     "text": [
      ".     .ipynb_checkpoints  Untitled1.ipynb        copiame\n",
      "..    Introduccion.ipynb  copia-Untitled.ipynb   copianueva-Untitled2.ipynb\n",
      ".git  Untitled.ipynb      copia-Untitled2.ipynb\n"
     ]
    }
   ],
   "source": [
    "ls -a"
   ]
  },
  {
   "cell_type": "markdown",
   "metadata": {},
   "source": [
    "el parametro **-a** muestra todos los archivos (ocultos y no ocultos)\n",
    "este parametro se puede mezclar con otros parametros"
   ]
  },
  {
   "cell_type": "code",
   "execution_count": 20,
   "metadata": {},
   "outputs": [
    {
     "name": "stdout",
     "output_type": "stream",
     "text": [
      "total 60K\n",
      "drwxr-xr-x  5 developer developer 4.0K Sep 18 17:00 .\n",
      "drwxr-xr-x 11 developer developer 4.0K Aug 27 06:25 ..\n",
      "drwxr-xr-x  8 developer developer 4.0K Aug 27 06:26 .git\n",
      "drwxr-xr-x  2 developer developer 4.0K Sep 11 16:57 .ipynb_checkpoints\n",
      "-rw-r--r--  1 developer developer  11K Aug 28 16:46 Introduccion.ipynb\n",
      "-rw-r--r--  1 developer developer  401 Sep  4 15:21 Untitled.ipynb\n",
      "-rw-r--r--  1 developer developer 9.7K Sep 18 17:00 Untitled1.ipynb\n",
      "-rw-r--r--  1 developer developer  401 Sep 18 16:17 copia-Untitled.ipynb\n",
      "-rw-r--r--  1 developer developer  401 Sep 18 16:28 copia-Untitled2.ipynb\n",
      "drwxr-xr-x  2 developer developer 4.0K Sep 18 16:24 copiame\n",
      "-rw-r--r--  1 developer developer  401 Sep 18 16:30 copianueva-Untitled2.ipynb\n"
     ]
    }
   ],
   "source": [
    "ls -alh"
   ]
  },
  {
   "cell_type": "markdown",
   "metadata": {},
   "source": [
    "el parametro **-l** nos muestra en una lista los archivos y añade\n",
    "información del archivo o directorio mostrado (permisos, a quien pertene y grupo\n",
    "al que pertenece, tamaño en disco, fecha de creación o modificación)\n",
    "\n",
    "NOTA: podemos diferenciar entre un archivo o directorio por la inicial\n",
    "mostrada( **d**rwxr-xr-x directorio **-rw-r--r--** archivo)\n",
    "\n",
    "el parametro **-h** nos muestra en un formato mas amigable *human readable* \n",
    "el tamaño de los archivos"
   ]
  },
  {
   "cell_type": "markdown",
   "metadata": {},
   "source": [
    "# Copiar archivos y directorios\n",
    "\n",
    "Para copiar archivos y directorios en linux podemos usar el comando **cp**\n",
    "\n",
    "el primer parametro es el nombre de archivo o directorio origen, y el segundo\n",
    "parametro es el archivo o ruta donde se creará la copia de este."
   ]
  },
  {
   "cell_type": "code",
   "execution_count": 12,
   "metadata": {},
   "outputs": [
    {
     "name": "stdout",
     "output_type": "stream",
     "text": [
      "Introduccion.ipynb  copia-Untitled.ipynb   copianueva-Untitled2.ipynb\n",
      "Untitled.ipynb      copia-Untitled2.ipynb\n",
      "Untitled1.ipynb     copiame\n"
     ]
    }
   ],
   "source": [
    "ls"
   ]
  },
  {
   "cell_type": "code",
   "execution_count": 2,
   "metadata": {},
   "outputs": [],
   "source": [
    "cp Untitled.ipynb copia-Untitled.ipynb"
   ]
  },
  {
   "cell_type": "code",
   "execution_count": 4,
   "metadata": {},
   "outputs": [],
   "source": [
    "mkdir copiame"
   ]
  },
  {
   "cell_type": "code",
   "execution_count": 6,
   "metadata": {},
   "outputs": [],
   "source": [
    "cp Untitled.ipynb copiame/copia-Untitled2.ipynb"
   ]
  },
  {
   "cell_type": "code",
   "execution_count": 7,
   "metadata": {},
   "outputs": [
    {
     "name": "stdout",
     "output_type": "stream",
     "text": [
      "copia-Untitled2.ipynb\n"
     ]
    }
   ],
   "source": [
    "ls copi"
   ]
  },
  {
   "cell_type": "code",
   "execution_count": 8,
   "metadata": {},
   "outputs": [
    {
     "name": "stdout",
     "output_type": "stream",
     "text": [
      "/home/developer/SO-Notebook\n"
     ]
    }
   ],
   "source": [
    "pwd"
   ]
  },
  {
   "cell_type": "markdown",
   "metadata": {},
   "source": [
    "El comando **pwd** nos imprime en consola el directorio donde estamos posicionados"
   ]
  },
  {
   "cell_type": "code",
   "execution_count": 11,
   "metadata": {},
   "outputs": [],
   "source": [
    "cp copiame/copia-Untitled2.ipynb ./copianueva-Untitled2.ipynb"
   ]
  },
  {
   "cell_type": "markdown",
   "metadata": {},
   "source": [
    "# Comando tree\n",
    "El comando **tree** nos permite imprimir en consola la estructura de directorios y\n",
    "sus archivos, lo muestra en un diagrama de niveles y sub-niveles"
   ]
  },
  {
   "cell_type": "code",
   "execution_count": 15,
   "metadata": {},
   "outputs": [
    {
     "name": "stdout",
     "output_type": "stream",
     "text": [
      "/home\n",
      "└── developer\n",
      "    ├── SO-Notebook\n",
      "    │   ├── Introduccion.ipynb\n",
      "    │   ├── Untitled.ipynb\n",
      "    │   ├── Untitled1.ipynb\n",
      "    │   ├── copia-Untitled.ipynb\n",
      "    │   ├── copia-Untitled2.ipynb\n",
      "    │   ├── copiame\n",
      "    │   │   └── copia-Untitled2.ipynb\n",
      "    │   └── copianueva-Untitled2.ipynb\n",
      "    └── jupyternotebooks\n",
      "        ├── BottleNotes\n",
      "        │   ├── HolaMundoBottle.ipynb\n",
      "        │   ├── TodoList-Bottle.ipynb\n",
      "        │   ├── edit_task.tpl\n",
      "        │   ├── game_api.ipynb\n",
      "        │   ├── gameapi.py\n",
      "        │   ├── games.db\n",
      "        │   ├── make_table.tpl\n",
      "        │   ├── new_task.tpl\n",
      "        │   ├── todo.db\n",
      "        │   ├── untitled.txt\n",
      "        │   ├── updategames.ipynb\n",
      "        │   └── updategames.py\n",
      "        ├── DjangoNotes\n",
      "        │   └── PollApp\n",
      "        │       ├── Inicio.ipynb\n",
      "        │       ├── Parte2.ipynb\n",
      "        │       ├── Pipfile\n",
      "        │       ├── Pipfile.lock\n",
      "        │       └── mysite\n",
      "        │           ├── db.sqlite3\n",
      "        │           ├── manage.py\n",
      "        │           ├── mysite\n",
      "        │           │   ├── __init__.py\n",
      "        │           │   ├── settings.py\n",
      "        │           │   ├── urls.py\n",
      "        │           │   └── wsgi.py\n",
      "        │           └── polls\n",
      "        │               ├── __init__.py\n",
      "        │               ├── admin.py\n",
      "        │               ├── apps.py\n",
      "        │               ├── migrations\n",
      "        │               │   ├── 0001_initial.py\n",
      "        │               │   └── __init__.py\n",
      "        │               ├── models.py\n",
      "        │               ├── tests.py\n",
      "        │               ├── urls.py\n",
      "        │               └── views.py\n",
      "        ├── Examenes2doparcial\n",
      "        │   └── Luis.ipynb\n",
      "        ├── FlaskNotes\n",
      "        │   ├── 01-FlaskIntro.ipynb\n",
      "        │   ├── 02-ConfiguracionAplicacion.ipynb\n",
      "        │   ├── 03-Blueprints.ipynb\n",
      "        │   ├── 04-JinjaTemplates.ipynb\n",
      "        │   ├── 05-Jinja-Templates part2.ipynb\n",
      "        │   ├── 06-agregando-mas-paginas.ipynb\n",
      "        │   └── 07-testing-quality-code.ipynb\n",
      "        ├── Untitled.ipynb\n",
      "        └── Untitled1.ipynb\n",
      "\n",
      "13 directories, 48 files\n"
     ]
    }
   ],
   "source": [
    "tree /home"
   ]
  },
  {
   "cell_type": "markdown",
   "metadata": {},
   "source": [
    "# Comando PS\n",
    "\n",
    "Este comando nos permite observar los procesos, lee directamente la informacion del sistema de archivos /proc"
   ]
  },
  {
   "cell_type": "code",
   "execution_count": 11,
   "metadata": {},
   "outputs": [
    {
     "name": "stdout",
     "output_type": "stream",
     "text": [
      "UID        PID  PPID  C STIME TTY          TIME CMD\n",
      "root         1     0  0 15:19 ?        00:00:00 /sbin/docker-init -- /usr/local/\n",
      "develop+     7     1  0 15:19 ?        00:00:13 /usr/local/bin/python /usr/local\n",
      "develop+    18     7  0 15:53 ?        00:00:01 /usr/local/bin/python -m bash_ke\n",
      "develop+    31    18  0 15:53 pts/0    00:00:00 /bin/bash --rcfile /usr/local/li\n",
      "develop+   116     7  0 16:00 pts/1    00:00:00 /bin/sh\n",
      "develop+   117   116  0 16:00 pts/1    00:00:00 bash\n",
      "develop+   343     7  1 16:28 pts/2    00:00:00 /bin/sh\n",
      "develop+   344   343  0 16:28 pts/2    00:00:00 bash\n",
      "develop+   426   117  0 16:29 pts/1    00:00:00 ping google.com\n",
      "develop+   427   344  0 16:29 pts/2    00:00:00 ping univafu.edu.mx\n",
      "develop+   428    31  0 16:29 pts/0    00:00:00 ps -ef\n"
     ]
    }
   ],
   "source": [
    "ps -ef"
   ]
  },
  {
   "cell_type": "code",
   "execution_count": 8,
   "metadata": {},
   "outputs": [],
   "source": [
    "kill -9 206"
   ]
  },
  {
   "cell_type": "code",
   "execution_count": null,
   "metadata": {},
   "outputs": [],
   "source": [
    "killall ping"
   ]
  },
  {
   "cell_type": "code",
   "execution_count": 13,
   "metadata": {},
   "outputs": [
    {
     "name": "stdout",
     "output_type": "stream",
     "text": [
      "Usage: nice [OPTION] [COMMAND [ARG]...]\n",
      "Run COMMAND with an adjusted niceness, which affects process scheduling.\n",
      "With no COMMAND, print the current niceness.  Niceness values range from\n",
      "-20 (most favorable to the process) to 19 (least favorable to the process).\n",
      "\n",
      "Mandatory arguments to long options are mandatory for short options too.\n",
      "  -n, --adjustment=N   add integer N to the niceness (default 10)\n",
      "      --help     display this help and exit\n",
      "      --version  output version information and exit\n",
      "\n",
      "NOTE: your shell may have its own version of nice, which usually supersedes\n",
      "the version described here.  Please refer to your shell's documentation\n",
      "for details about the options it supports.\n",
      "\n",
      "GNU coreutils online help: <http://www.gnu.org/software/coreutils/>\n",
      "Report nice translation bugs to <http://translationproject.org/team/>\n",
      "Full documentation at: <http://www.gnu.org/software/coreutils/nice>\n",
      "or available locally via: info '(coreutils) nice invocation'\n"
     ]
    }
   ],
   "source": [
    "nice --help"
   ]
  },
  {
   "cell_type": "code",
   "execution_count": 15,
   "metadata": {},
   "outputs": [
    {
     "name": "stdout",
     "output_type": "stream",
     "text": [
      "nice: cannot set niceness: Permission denied\n",
      "Usage: ping [-aAbBdDfhLnOqrRUvV64] [-c count] [-i interval] [-I interface]\n",
      "            [-m mark] [-M pmtudisc_option] [-l preload] [-p pattern] [-Q tos]\n",
      "            [-s packetsize] [-S sndbuf] [-t ttl] [-T timestamp_option]\n",
      "            [-w deadline] [-W timeout] [hop1 ...] destination\n",
      "Usage: ping -6 [-aAbBdDfhLnOqrRUvV] [-c count] [-i interval] [-I interface]\n",
      "             [-l preload] [-m mark] [-M pmtudisc_option]\n",
      "             [-N nodeinfo_option] [-p pattern] [-Q tclass] [-s packetsize]\n",
      "             [-S sndbuf] [-t ttl] [-T timestamp_option] [-w deadline]\n",
      "             [-W timeout] destination\n"
     ]
    },
    {
     "ename": "",
     "evalue": "2",
     "execution_count": 15,
     "output_type": "error",
     "traceback": []
    }
   ],
   "source": [
    "nice -n -5 ping"
   ]
  },
  {
   "cell_type": "markdown",
   "metadata": {},
   "source": [
    "# Estuctura de directorios \\*NIX"
   ]
  }
 ],
 "metadata": {
  "kernelspec": {
   "display_name": "Bash",
   "language": "bash",
   "name": "bash"
  },
  "language_info": {
   "codemirror_mode": "shell",
   "file_extension": ".sh",
   "mimetype": "text/x-sh",
   "name": "bash"
  }
 },
 "nbformat": 4,
 "nbformat_minor": 4
}
